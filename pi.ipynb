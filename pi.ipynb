{
 "cells": [
  {
   "cell_type": "code",
   "execution_count": null,
   "metadata": {},
   "outputs": [],
   "source": [
    "import random\n",
    "import numpy as np\n",
    "\n",
    "while True:\n",
    "    n = 1000000000\n",
    "    inside = 0\n",
    "\n",
    "    for i in range(n):\n",
    "        r_num1 = random.random()\n",
    "        r_num2 = random.random()\n",
    "        if ((r_num1*r_num1) + (r_num2*r_num2)) <= 1:\n",
    "            inside += 1\n",
    "\n",
    "    estimated_pi = 4*(inside/n)\n",
    "\n",
    "    # print(\"PI = {:.15f}\".format(estimated_pi))\n",
    "\n",
    "    # print(\"PI =\" , np.pi)\n",
    "\n",
    "    file = open(\"pi_store.txt\", \"a\")\n",
    "    file.write(\"\\n\" + str(estimated_pi))\n",
    "    file.close()"
   ]
  }
 ],
 "metadata": {
  "kernelspec": {
   "display_name": "Python 3",
   "language": "python",
   "name": "python3"
  },
  "language_info": {
   "codemirror_mode": {
    "name": "ipython",
    "version": 3
   },
   "file_extension": ".py",
   "mimetype": "text/x-python",
   "name": "python",
   "nbconvert_exporter": "python",
   "pygments_lexer": "ipython3",
   "version": "3.11.0"
  },
  "orig_nbformat": 4
 },
 "nbformat": 4,
 "nbformat_minor": 2
}
