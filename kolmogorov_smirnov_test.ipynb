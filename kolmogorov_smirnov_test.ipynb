{
 "cells": [
  {
   "cell_type": "code",
   "execution_count": 4,
   "metadata": {},
   "outputs": [
    {
     "name": "stdout",
     "output_type": "stream",
     "text": [
      "Test Statistic: 0.15000000000000002\n",
      "The given random numbers are uniform at 95.0% level of significance.\n"
     ]
    }
   ],
   "source": [
    "import numpy as np\n",
    "\n",
    "def kolmogorov_smirnov_test(data, significance_level):\n",
    "    sorted_data = np.sort(data)\n",
    "    n = len(sorted_data)\n",
    "    empirical_cdf = np.arange(1, n + 1) / n\n",
    "    d_plus = empirical_cdf - sorted_data\n",
    "    d_minus = sorted_data - (np.arange(n) / n)\n",
    "    test_statistic = np.max([np.max(d_plus), np.max(d_minus)])\n",
    "\n",
    "    # Look up critical value from table or use scipy.stats.kstwobign.ppf for large sample sizes\n",
    "    # Here, we manually provide the critical value for N=10 and significance_level=0.05\n",
    "    critical_value = 0.410\n",
    "\n",
    "\n",
    "    if test_statistic < critical_value:\n",
    "        result = \"The given random numbers are uniform at {}% level of significance.\".format((1 - significance_level) * 100)\n",
    "    else:\n",
    "        result = \"The given random numbers are not uniform at {}% level of significance.\".format((1 - significance_level) * 100)\n",
    "\n",
    "    return test_statistic, result\n",
    "\n",
    "\n",
    "\n",
    "data = [0.24, 0.89, 0.11, 0.61, 0.23, 0.86, 0.41, 0.64, 0.50, 0.65]\n",
    "significance_level = 0.05\n",
    "\n",
    "test_statistic, result = kolmogorov_smirnov_test(data, significance_level)\n",
    "\n",
    "\n",
    "print(\"Test Statistic:\", test_statistic)\n",
    "print(result)\n"
   ]
  }
 ],
 "metadata": {
  "kernelspec": {
   "display_name": "Python 3",
   "language": "python",
   "name": "python3"
  },
  "language_info": {
   "codemirror_mode": {
    "name": "ipython",
    "version": 3
   },
   "file_extension": ".py",
   "mimetype": "text/x-python",
   "name": "python",
   "nbconvert_exporter": "python",
   "pygments_lexer": "ipython3",
   "version": "3.11.0"
  },
  "orig_nbformat": 4
 },
 "nbformat": 4,
 "nbformat_minor": 2
}
