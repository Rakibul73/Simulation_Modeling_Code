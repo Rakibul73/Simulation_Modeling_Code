{
 "cells": [
  {
   "cell_type": "code",
   "execution_count": null,
   "metadata": {},
   "outputs": [],
   "source": [
    "import numpy as np\n",
    "import matplotlib.pyplot as plt\n",
    "import random\n"
   ]
  },
  {
   "attachments": {},
   "cell_type": "markdown",
   "metadata": {},
   "source": [
    "Random walk - Probability forward , backward , left , right = 40% 10% 25% 25% <br/>\n",
    "distance covered same for all direction"
   ]
  },
  {
   "cell_type": "code",
   "execution_count": null,
   "metadata": {},
   "outputs": [],
   "source": [
    "# Random walk - Probability forward , backward , left , right = 40% 10% 25% 25%\n",
    "random_walk_probabilities = [0.4 , 0.1 , 0.25 , 0.25]\n",
    "\n",
    "# calculate cumulative probabilities\n",
    "cumulative_probabilities = [random_walk_probabilities[0]]\n",
    "for i in range(1, len(random_walk_probabilities)):\n",
    "    cumulative_probabilities.append(cumulative_probabilities[i-1] + random_walk_probabilities[i])\n",
    "\n",
    "# generate random digit assignments\n",
    "random_walk_random_digits = []\n",
    "count = 0\n",
    "for i in range(len(random_walk_probabilities)):\n",
    "    random_walk_random_digits.append([])\n",
    "    for j in range(int(random_walk_probabilities[i]*100)): \n",
    "        random_walk_random_digits[i].append(count)\n",
    "        count += 1\n",
    "        \n",
    "\n",
    "# for i in range(len(cumulative_probabilities)):\n",
    "#     print(f\"{cumulative_probabilities[i]:.2f}\")\n"
   ]
  },
  {
   "cell_type": "code",
   "execution_count": null,
   "metadata": {},
   "outputs": [],
   "source": [
    "\n",
    "def randomwalk2D(n):\n",
    "    n += 1\n",
    "    x = np.zeros(n)\n",
    "    y = np.zeros(n)\n",
    "\n",
    "    for i in range(1, n):\n",
    "        step = random.randint(0,99)\n",
    "        global direction\n",
    "\n",
    "        # find direction from generated random num\n",
    "        for j in range(len(random_walk_random_digits)):\n",
    "            if step in random_walk_random_digits[j]:\n",
    "                if j == 0:\n",
    "                    direction = \"forward\"\n",
    "                if j == 1:\n",
    "                    direction = \"backward\"\n",
    "                if j == 2:\n",
    "                    direction = \"left\"\n",
    "                if j == 3:\n",
    "                    direction = \"right\"\n",
    "                break\n",
    "\n",
    "        # Move the object according to the direction\n",
    "        if direction == \"forward\":\n",
    "            x[i] = x[i - 1]\n",
    "            y[i] = y[i - 1] + 1\n",
    "        elif direction == \"backward\":\n",
    "            x[i] = x[i - 1]\n",
    "            y[i] = y[i - 1] - 1\n",
    "        elif direction == \"left\":\n",
    "            x[i] = x[i - 1] - 1\n",
    "            y[i] = y[i - 1]\n",
    "        elif direction == \"right\":\n",
    "            x[i] = x[i - 1] + 1\n",
    "            y[i] = y[i - 1]\n",
    "\n",
    "    return x, y\n",
    "\n",
    "x_data, y_data = randomwalk2D(50)\n",
    "\n",
    "\n",
    "\n",
    "# create a scatter plot with red points\n",
    "plt.scatter(x_data, y_data, color='green')\n",
    "# create a line plot with blue lines connecting the points\n",
    "plt.plot(x_data, y_data, color='blue')\n",
    "# add the first point as a cyan point\n",
    "plt.scatter(x_data[0], y_data[0], color='cyan')\n",
    "# add the last point as a pink point\n",
    "plt.scatter(x_data[-1], y_data[-1], color='red')\n",
    "# set the x-tick and y-tick locations and labels to use integers\n",
    "plt.xticks(np.arange(int(min(x_data)), int(max(x_data))+1, 1))\n",
    "plt.yticks(np.arange(int(min(y_data)), int(max(y_data))+1, 1))\n",
    "plt.title('green Points with Blue Line, Cyan First Point, and red Last Point')\n",
    "plt.show()"
   ]
  }
 ],
 "metadata": {
  "kernelspec": {
   "display_name": "Python 3",
   "language": "python",
   "name": "python3"
  },
  "language_info": {
   "codemirror_mode": {
    "name": "ipython",
    "version": 3
   },
   "file_extension": ".py",
   "mimetype": "text/x-python",
   "name": "python",
   "nbconvert_exporter": "python",
   "pygments_lexer": "ipython3",
   "version": "3.11.0"
  },
  "orig_nbformat": 4
 },
 "nbformat": 4,
 "nbformat_minor": 2
}
