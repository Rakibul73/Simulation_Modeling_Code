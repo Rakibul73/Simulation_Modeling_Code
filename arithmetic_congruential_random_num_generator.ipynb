{
 "cells": [
  {
   "cell_type": "code",
   "execution_count": null,
   "metadata": {},
   "outputs": [],
   "source": [
    "def arithmetic_congruential_generator(seed1, seed2, m, num_of_random_numbers):\n",
    "    random_nums = []\n",
    "    num1, num2 = seed1, seed2\n",
    "\n",
    "    for _ in range(num_of_random_numbers):\n",
    "        new_num = (num1 + num2) % m\n",
    "        random_nums.append(new_num)\n",
    "        num1, num2 = num2, new_num\n",
    "\n",
    "    return random_nums\n",
    "\n",
    "\n",
    "seed1 = int(input(\"Enter the first seed value: \"))\n",
    "seed2 = int(input(\"Enter the second seed value: \"))\n",
    "m = int(input(\"Enter the value of 'm' (should largest prime num): \"))\n",
    "num_of_random_numbers = int(input(\"Enter the number of random numbers to generate: \"))\n",
    "\n",
    "random_numbers = arithmetic_congruential_generator(seed1, seed2, m, num_of_random_numbers)\n",
    "print(\"Generated random numbers:\")\n",
    "for num in random_numbers:\n",
    "    print(num)\n"
   ]
  }
 ],
 "metadata": {
  "kernelspec": {
   "display_name": "Python 3",
   "language": "python",
   "name": "python3"
  },
  "language_info": {
   "codemirror_mode": {
    "name": "ipython",
    "version": 3
   },
   "file_extension": ".py",
   "mimetype": "text/x-python",
   "name": "python",
   "nbconvert_exporter": "python",
   "pygments_lexer": "ipython3",
   "version": "3.11.0"
  },
  "orig_nbformat": 4
 },
 "nbformat": 4,
 "nbformat_minor": 2
}
