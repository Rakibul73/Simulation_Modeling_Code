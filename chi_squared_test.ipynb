{
 "cells": [
  {
   "cell_type": "code",
   "execution_count": null,
   "metadata": {},
   "outputs": [],
   "source": [
    "import numpy as np\n",
    "import random\n",
    "\n",
    "# Generate 100 random numbers (example)\n",
    "random_numbers = []\n",
    "i = 0\n",
    "while i < 100:\n",
    "    k = random.randint( 0 , 99)\n",
    "    random_numbers.append(k)\n",
    "    i += 1\n",
    "\n",
    "print(\"Random num = \", random_numbers)\n",
    "\n",
    "# Define the expected probabilities for each category (uniform distribution)\n",
    "expected_probs = np.full(10, 10)\n",
    "print(\"expected num in each category = \",expected_probs)\n",
    "\n",
    "\n",
    "# Divide the random numbers into 10 categories\n",
    "observed_counts, _ = np.histogram(random_numbers, bins=10)\n",
    "print(\"frequency = \" , observed_counts)\n",
    "\n",
    "# Calculate the chi-squared statistic\n",
    "chi2_stat = np.sum(abs(observed_counts - expected_probs) ** 2 / (expected_probs))\n",
    "\n",
    "# Calculate the degrees of freedom (number of categories - 1)\n",
    "from scipy.stats import chi2\n",
    "df = 10 - 1  \n",
    "# Calculate the critical value for alpha = 0.05\n",
    "alpha = 0.05\n",
    "critical_value = chi2.ppf(1 - alpha, df)\n",
    "\n",
    "# Print the test results\n",
    "print(\"Chi-squared statistic:\", chi2_stat)\n",
    "print(\"Critical value for alpha 0.05:\", critical_value)\n"
   ]
  }
 ],
 "metadata": {
  "kernelspec": {
   "display_name": "Python 3",
   "language": "python",
   "name": "python3"
  },
  "language_info": {
   "codemirror_mode": {
    "name": "ipython",
    "version": 3
   },
   "file_extension": ".py",
   "mimetype": "text/x-python",
   "name": "python",
   "nbconvert_exporter": "python",
   "pygments_lexer": "ipython3",
   "version": "3.11.0"
  },
  "orig_nbformat": 4
 },
 "nbformat": 4,
 "nbformat_minor": 2
}
