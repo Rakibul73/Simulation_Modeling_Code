{
 "cells": [
  {
   "cell_type": "code",
   "execution_count": null,
   "metadata": {},
   "outputs": [],
   "source": [
    "ri = [12]\n",
    "a = 13\n",
    "b = 1\n",
    "m = 97\n",
    "n = 100\n",
    "\n",
    "i = 1\n",
    "while i <= n:\n",
    "    rn = ((a * ri[i - 1]) + b) % m\n",
    "    ri.append(rn)\n",
    "    i += 1\n",
    "\n",
    "ri = ri[1:]\n",
    "print(ri)\n",
    "len(ri)"
   ]
  },
  {
   "cell_type": "code",
   "execution_count": null,
   "metadata": {},
   "outputs": [],
   "source": [
    "cls = []\n",
    "i = 0\n",
    "while i<=n:\n",
    "    cls.append(i)\n",
    "    i+=10\n",
    "cls"
   ]
  },
  {
   "cell_type": "code",
   "execution_count": null,
   "metadata": {},
   "outputs": [],
   "source": [
    "frequency = [0]*10\n",
    "\n",
    "for i in ri:\n",
    "    for j in range(len(cls)-1):\n",
    "        if i>cls[j] and i<=cls[j+1]:\n",
    "            frequency[j] += 1\n",
    "frequency"
   ]
  },
  {
   "cell_type": "code",
   "execution_count": null,
   "metadata": {},
   "outputs": [],
   "source": [
    "dif_sq = 0\n",
    "\n",
    "for i in frequency:\n",
    "    x = abs(i-10)\n",
    "    x = x*x\n",
    "    dif_sq += x\n",
    "chi_sqr = dif_sq/10\n",
    "chi_sqr"
   ]
  }
 ],
 "metadata": {
  "kernelspec": {
   "display_name": "Python 3",
   "language": "python",
   "name": "python3"
  },
  "language_info": {
   "codemirror_mode": {
    "name": "ipython",
    "version": 3
   },
   "file_extension": ".py",
   "mimetype": "text/x-python",
   "name": "python",
   "nbconvert_exporter": "python",
   "pygments_lexer": "ipython3",
   "version": "3.11.0"
  },
  "orig_nbformat": 4
 },
 "nbformat": 4,
 "nbformat_minor": 2
}
