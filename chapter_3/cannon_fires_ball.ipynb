{
 "cells": [
  {
   "attachments": {},
   "cell_type": "markdown",
   "metadata": {},
   "source": [
    "A cannon fires spherical balls of mass m, a range table that gives ranges for various values of muzzle velocity and gun elevation (firing angle) is to be produced. The sensitivity of range to small changes in muzzle velocity and gun elevation is also to be investigated. Assume that the drag is proportional to the square of the instantaneous velocity of the cannon ball, and it is purely along the direction of flight. Making use of the following four equations, write a computer program to produce the range table:\n",
    "\n",
    "m*(dy/dt) +mg*sin(theta) + cv² = 0 <br>\n",
    "m*v*(Ꮷ(theta)/dt) +mg*cos(theta)=0 <br>\n",
    "dx/dt = v cos(theta) <br>\n",
    "dy/dt = v*sin(theta) <br>\n",
    "\n",
    "Constant c is the drag coefficient for the cannon ball. Variables v and (theta) are the instantaneous velocity and angle of elevation of the cannon ball, and x, y are the coordinates of its instantaneous position. For various values of the starting conditions, i.e., v(not), (theta)(not), and x(not) = y(not) =0, the program should yield the range."
   ]
  },
  {
   "cell_type": "code",
   "execution_count": null,
   "metadata": {},
   "outputs": [],
   "source": [
    "import math\n",
    "\n",
    "def cannon_range_table():\n",
    "    # Constants and initial values\n",
    "    m = 0.1  # Mass of cannon ball in kg\n",
    "    c = 0.1  # Drag coefficient\n",
    "    g = 9.81  # Acceleration due to gravity\n",
    "    \n",
    "    v0_range = range(100, 1001, 100)  # Range of initial velocities (m/s)\n",
    "    angle_range = range(5, 91, 5)  # Range of firing angles (degrees)\n",
    "\n",
    "    print(\"Range Table\")\n",
    "    print(\"-------------------------------\")\n",
    "    print(\"Firing Angle (deg)\\tInitial Velocity (m/s)\\tRange (m)\")\n",
    "    \n",
    "    for angle in angle_range:\n",
    "        for v0 in v0_range:\n",
    "            # Convert angle to radians\n",
    "            theta = math.radians(angle)\n",
    "            \n",
    "            # Initial values\n",
    "            x = 0\n",
    "            y = 0\n",
    "            t = 0\n",
    "            \n",
    "            while y >= 0:\n",
    "                # Calculate changes in velocity and position\n",
    "                delv = (-g * math.sin(theta) - (c * v0**2) / m) * t\n",
    "                delx = v0 * math.cos(theta) * t\n",
    "                dely = v0 * math.sin(theta) * t - 0.5 * g * t**2\n",
    "                \n",
    "                # Update velocity and position\n",
    "                v0 += delv\n",
    "                x += delx\n",
    "                y += dely\n",
    "                t += 0.01\n",
    "                \n",
    "            # Print the firing angle, initial velocity, and range\n",
    "            print(f\"{angle}\\t\\t\\t{v0}\\t\\t\\t\\t{x:.2f}\")\n",
    "\n",
    "cannon_range_table()\n"
   ]
  }
 ],
 "metadata": {
  "kernelspec": {
   "display_name": "Python 3",
   "language": "python",
   "name": "python3"
  },
  "language_info": {
   "codemirror_mode": {
    "name": "ipython",
    "version": 3
   },
   "file_extension": ".py",
   "mimetype": "text/x-python",
   "name": "python",
   "nbconvert_exporter": "python",
   "pygments_lexer": "ipython3",
   "version": "3.11.0"
  },
  "orig_nbformat": 4
 },
 "nbformat": 4,
 "nbformat_minor": 2
}
