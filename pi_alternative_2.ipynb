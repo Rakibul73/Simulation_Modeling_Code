{
 "cells": [
  {
   "cell_type": "code",
   "execution_count": null,
   "metadata": {},
   "outputs": [],
   "source": [
    "# https://www.nickmccullum.com/monte-carlo-simulations-python/\n",
    "\n",
    "import random\n",
    "import math\n",
    "n = 100\n",
    "def  calc_pi(n):\n",
    "\tn_inside_circle = 0\n",
    "\tfor i in  range(0,n):\n",
    "\t\tx = random.random()\n",
    "\t\ty = random.random()\n",
    "\tif(math.sqrt(x*x+y*y)<=1):\n",
    "\t\tn_inside_circle += 1\n",
    "\tpi = 4*n_inside_circle/n\n",
    "\treturn pi\n"
   ]
  },
  {
   "cell_type": "code",
   "execution_count": null,
   "metadata": {},
   "outputs": [],
   "source": [
    "n=10000\n",
    "results_100 = []\n",
    "for i in  range(0,10000):\n",
    "\tresults_100.append(calc_pi(n))\n",
    "print(results_100)"
   ]
  },
  {
   "cell_type": "code",
   "execution_count": null,
   "metadata": {},
   "outputs": [],
   "source": [
    "import numpy as np\n",
    "np.var(results_100)"
   ]
  },
  {
   "cell_type": "code",
   "execution_count": null,
   "metadata": {},
   "outputs": [],
   "source": [
    "import numpy as np\n",
    "np.mean(results_100)"
   ]
  }
 ],
 "metadata": {
  "kernelspec": {
   "display_name": "Python 3",
   "language": "python",
   "name": "python3"
  },
  "language_info": {
   "codemirror_mode": {
    "name": "ipython",
    "version": 3
   },
   "file_extension": ".py",
   "mimetype": "text/x-python",
   "name": "python",
   "nbconvert_exporter": "python",
   "pygments_lexer": "ipython3",
   "version": "3.11.0"
  },
  "orig_nbformat": 4
 },
 "nbformat": 4,
 "nbformat_minor": 2
}
