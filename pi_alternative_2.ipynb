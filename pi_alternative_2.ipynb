{
 "cells": [
  {
   "cell_type": "code",
   "execution_count": 11,
   "metadata": {},
   "outputs": [
    {
     "name": "stdout",
     "output_type": "stream",
     "text": [
      "3.14173444\n",
      "Actual PI value = 3.141592653589793\n"
     ]
    }
   ],
   "source": [
    "# https://www.nickmccullum.com/monte-carlo-simulations-python/\n",
    "import random\n",
    "import math\n",
    "n = 100000000\n",
    "n_inside_circle = 0\n",
    "for i in  range(0,n):\n",
    "\tx = random.random()\n",
    "\ty = random.random()\n",
    "\n",
    "\tif((x*x+y*y)<=1):\n",
    "\t\tn_inside_circle += 1\n",
    "pi = 4*n_inside_circle/n\n",
    "print(pi)\n",
    "print(\"Actual PI value =\" ,math.pi)"
   ]
  }
 ],
 "metadata": {
  "kernelspec": {
   "display_name": "Python 3",
   "language": "python",
   "name": "python3"
  },
  "language_info": {
   "codemirror_mode": {
    "name": "ipython",
    "version": 3
   },
   "file_extension": ".py",
   "mimetype": "text/x-python",
   "name": "python",
   "nbconvert_exporter": "python",
   "pygments_lexer": "ipython3",
   "version": "3.11.0"
  },
  "orig_nbformat": 4
 },
 "nbformat": 4,
 "nbformat_minor": 2
}
