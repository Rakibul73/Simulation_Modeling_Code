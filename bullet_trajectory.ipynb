{
 "cells": [
  {
   "attachments": {},
   "cell_type": "markdown",
   "metadata": {},
   "source": [
    "A bullet is fired at an angle of 40° with horizontal and with an initial velocity of 350 meter/sec. Assuming that the air resistance varies as the square of the velocity of the bullet and that the resistance coefficient is -0.00005, find the range, time of flight, and the angle of fall of the bullet.\n"
   ]
  },
  {
   "cell_type": "code",
   "execution_count": null,
   "metadata": {},
   "outputs": [],
   "source": [
    "import math\n",
    "\n",
    "def bullet_trajectory():\n",
    "    # Constants and initial values\n",
    "    v0 = 350  # Initial velocity in m/s\n",
    "    angle = 40  # Angle of projection in degrees\n",
    "    c = -0.00005  # Resistance coefficient\n",
    "    delt = 0.01  # Time interval for simulation\n",
    "    g = 9.81  # Acceleration due to gravity\n",
    "    \n",
    "    theta = math.radians(angle)  # Convert angle to radians\n",
    "\n",
    "    # Initialize variables\n",
    "    x = 0\n",
    "    y = 0\n",
    "    t = 0\n",
    "    range_val = 0\n",
    "    max_height = 0\n",
    "\n",
    "    # Simulation loop\n",
    "    while y >= 0:\n",
    "        # Calculate changes in velocity, angle, and position\n",
    "        delv = (-g * math.sin(theta) + c * v0**2) * delt\n",
    "        dtheta = -g * math.cos(theta) * delt / v0\n",
    "        delx = v0 * math.cos(theta) * delt\n",
    "        dely = v0 * math.sin(theta) * delt - 0.5 * g * delt**2\n",
    "\n",
    "        # Update velocity, angle, and position\n",
    "        v0 += delv\n",
    "        theta += dtheta\n",
    "        x += delx\n",
    "        y += dely\n",
    "\n",
    "        # Update range and maximum height\n",
    "        if y >= 0:\n",
    "            range_val = x\n",
    "            max_height = max(max_height, y)\n",
    "\n",
    "        # Update time of flight\n",
    "        t += delt\n",
    "\n",
    "    # Calculate the angle of fall\n",
    "    angle_of_fall = math.degrees(math.atan(y / x))\n",
    "\n",
    "    # Print the results\n",
    "    print(\"Bullet Trajectory\")\n",
    "    print(\"-------------------------------\")\n",
    "    print(f\"Initial Velocity: {v0} m/s\")\n",
    "    print(f\"Angle of Projection: {angle} degrees\")\n",
    "    print(f\"Range: {range_val:.2f} meters\")\n",
    "    print(f\"Time of Flight: {t:.2f} seconds\")\n",
    "    print(f\"Angle of Fall: {angle_of_fall:.2f} degrees\")\n",
    "    print(f\"Maximum Height: {max_height:.2f} meters\")\n",
    "\n",
    "\n",
    "bullet_trajectory()\n"
   ]
  }
 ],
 "metadata": {
  "kernelspec": {
   "display_name": "Python 3",
   "language": "python",
   "name": "python3"
  },
  "language_info": {
   "codemirror_mode": {
    "name": "ipython",
    "version": 3
   },
   "file_extension": ".py",
   "mimetype": "text/x-python",
   "name": "python",
   "nbconvert_exporter": "python",
   "pygments_lexer": "ipython3",
   "version": "3.11.0"
  },
  "orig_nbformat": 4
 },
 "nbformat": 4,
 "nbformat_minor": 2
}
