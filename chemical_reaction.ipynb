{
 "cells": [
  {
   "cell_type": "code",
   "execution_count": 16,
   "metadata": {},
   "outputs": [],
   "source": [
    "c1 = [50.0]\n",
    "c2 = [25.0]\n",
    "c3 = [0.0]\n",
    "kl = 0.025\n",
    "k2 = 0.01\n",
    "time_difference = 0.1\n",
    "t = 0.0\n",
    "last_time = 15.0\n",
    "i = 0\n"
   ]
  },
  {
   "cell_type": "code",
   "execution_count": null,
   "metadata": {},
   "outputs": [],
   "source": [
    "\n",
    "print(\"\\nTime  \\tC1    \\tC2    C3\")\n",
    "\n",
    "while t <= last_time:\n",
    "    print(f\"{t:.2f} \\t{c1[i]:.2f} \\t{c2[i]:.2f} \\t{c3[i]:.2f}\")\n",
    "\n",
    "    c1_next = c1[i] + (k2 * c3[i] - kl * c1[i] * c2[i]) * time_difference\n",
    "    c2_next = c2[i] + (k2 * c3[i] - kl * c1[i] * c2[i]) * time_difference\n",
    "    c3_next = c3[i] + 2.0 * (kl * c1[i] * c2[i] - k2 * c3[i]) * time_difference\n",
    "\n",
    "    c1.append(c1_next)\n",
    "    c2.append(c2_next)\n",
    "    c3.append(c3_next)\n",
    "\n",
    "    i += 1\n",
    "    t += time_difference\n",
    "\n",
    "    if t >= 2.0:\n",
    "        time_difference = 0.2\n",
    "    if t == 6.0:\n",
    "        time_difference = 0.4\n",
    "\n",
    "\n"
   ]
  }
 ],
 "metadata": {
  "kernelspec": {
   "display_name": "Python 3",
   "language": "python",
   "name": "python3"
  },
  "language_info": {
   "codemirror_mode": {
    "name": "ipython",
    "version": 3
   },
   "file_extension": ".py",
   "mimetype": "text/x-python",
   "name": "python",
   "nbconvert_exporter": "python",
   "pygments_lexer": "ipython3",
   "version": "3.11.0"
  },
  "orig_nbformat": 4
 },
 "nbformat": 4,
 "nbformat_minor": 2
}
