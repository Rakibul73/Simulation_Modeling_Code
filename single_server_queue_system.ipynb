{
 "cells": [
  {
   "cell_type": "markdown",
   "metadata": {},
   "source": [
    "# Detail Explanation for below code\n",
    "The `SingleServerQueue` class represents the single-server queuing system. It is initialized with the simulation environment (`env`), the average arrival rate of customers per unit of time (`arrival_rate`), and the average service rate of the server per unit of time (`service_rate`). The class also has attributes to keep track of the queue length (`queue_length`) and the waiting times of customers (`waiting_times`).\n",
    "\n",
    "The `customer_arrival` method is a generator function that simulates customer arrivals. It runs indefinitely in a loop (`while True`). Inside the loop, the function `yield` pauses the execution for a random time interval based on an exponential distribution with the specified arrival rate (`random.expovariate(self.arrival_rate)`). This simulates the inter-arrival time between consecutive customers. After a customer arrives, we increment the queue length by one (`self.queue_length += 1`), and then we start the customer service process using `self.env.process(self.customer_service(self.env.now))`. The `self.env.now` captures the current simulation time, representing the time of customer arrival.\n",
    "\n",
    "The `customer_service` method simulates the service process for a customer. It starts by capturing the arrival time passed as `arrival_time`. The service time is sampled from an exponential distribution with the specified service rate (`random.expovariate(self.service_rate)`). We then yield `self.env.timeout(service_time)`, which represents the duration of the service. After the service is completed, the departure time is captured as the current simulation time (`self.env.now`), and we calculate the waiting time as `waiting_time = departure_time - arrival_time`. We decrement the queue length by one (`self.queue_length -= 1`) and add the waiting time to the list of waiting times for customers (`self.waiting_times.append(waiting_time)`).\n",
    "\n",
    "In the main simulation part, we define the arrival rate (`arrival_rate`), service rate (`service_rate`), and the simulation time (`simulation_time`). We then create a simulation environment (`env`) using `simpy.Environment()`.\n",
    "Next, we create an instance of the `SingleServerQueue` class called `queue_system`, passing the simulation environment and the arrival and service rates to it.\n",
    "We then start the customer arrival process using `env.process(queue_system.customer_arrival())`, which initiates the queuing system simulation.\n",
    "The simulation runs until the specified `simulation_time` using `env.run(until=simulation_time)`.\n",
    "After the simulation is complete, we calculate the average waiting time of customers using the recorded waiting times and print the result.\n",
    "Finally, we plot the waiting time distribution using `matplotlib`. The histogram shows the probability density of waiting times for customers in the single-server queuing system."
   ]
  },
  {
   "cell_type": "code",
   "execution_count": null,
   "metadata": {},
   "outputs": [],
   "source": [
    "import simpy\n",
    "import random\n",
    "import matplotlib.pyplot as plt\n",
    "\n",
    "class SingleServerQueue:\n",
    "    def __init__(self, env, arrival_rate, service_rate):\n",
    "        self.env = env\n",
    "        self.arrival_rate = arrival_rate\n",
    "        self.service_rate = service_rate\n",
    "        self.queue_length = 0\n",
    "        self.waiting_times = []\n",
    "\n",
    "    def customer_arrival(self):\n",
    "        while True:\n",
    "            yield self.env.timeout(random.expovariate(self.arrival_rate))\n",
    "            self.queue_length += 1\n",
    "            self.env.process(self.customer_service(self.env.now))  # Capture arrival time\n",
    "\n",
    "    def customer_service(self, arrival_time):\n",
    "        service_time = random.expovariate(self.service_rate)\n",
    "        yield self.env.timeout(service_time)\n",
    "        departure_time = self.env.now\n",
    "        self.queue_length -= 1\n",
    "        waiting_time = departure_time - arrival_time\n",
    "        self.waiting_times.append(waiting_time)\n",
    "\n",
    "if __name__ == '__main__':\n",
    "    arrival_rate = 0.5  # Average arrival rate of customers per unit of time\n",
    "    service_rate = 0.6  # Average service rate of the server per unit of time\n",
    "    simulation_time = 1000\n",
    "\n",
    "    env = simpy.Environment()\n",
    "    queue_system = SingleServerQueue(env, arrival_rate, service_rate)\n",
    "    env.process(queue_system.customer_arrival())\n",
    "    env.run(until=simulation_time)\n",
    "\n",
    "    # Calculate and print average waiting time\n",
    "    average_waiting_time = sum(queue_system.waiting_times) / len(queue_system.waiting_times)\n",
    "    print(\"Average Waiting Time:\", average_waiting_time)\n",
    "\n",
    "    # Plotting the waiting time distribution\n",
    "    plt.hist(queue_system.waiting_times, bins=30, density=True, alpha=0.7, color='blue')\n",
    "    plt.xlabel('Waiting Time')\n",
    "    plt.ylabel('Probability Density')\n",
    "    plt.title('Waiting Time Distribution in Single-Server Queuing System')\n",
    "    plt.show()\n"
   ]
  },
  {
   "cell_type": "markdown",
   "metadata": {},
   "source": [
    "## Alternative"
   ]
  },
  {
   "cell_type": "markdown",
   "metadata": {},
   "source": [
    "# Detail Explanation for below code\n",
    "We set the random seed for reproducibility (`RANDOM_SEED`), the simulation time (`SIM_TIME`), and the service time for the server (`SERVICE_TIME`).\n",
    "\n",
    "The `SingleServerQueue` class represents the single-server queuing system. It is initialized with the simulation environment (`env`) and the service time of the server (`service_time`). The class uses `simpy.Resource` to create a resource representing the server with a capacity of 1 (meaning only one customer can be served at a time). The `service` method is a generator function that simulates the service process for a customer. It yields a `timeout` event based on an exponential distribution with the inverse of the service time (`1/self.service_time`), which represents the duration of the service.\n",
    "\n",
    "The `customer_arrivals` function simulates the arrival of customers to the queuing system. It runs indefinitely in a loop (`while True`). Inside the loop, it increments the customer index `i` by one to keep track of the number of arriving customers. The function then yields a `timeout` event based on an exponential distribution with a rate of `1/5`, which represents the average time between customer arrivals. After the timeout, it starts the `customer` process, passing the simulation environment (`env`), the customer name (`f'Customer {i}'`), and the `queue` object representing the single-server queue.\n",
    "\n",
    "The `customer` function simulates the behavior of a customer in the queuing system. When a customer arrives, it prints a message indicating the arrival time and the customer's name. It then requests to use the server using `queue.server.request()` as a context manager. If the server is available, the customer is served. It prints a message when the customer starts being served, and it yields the service process by calling `env.process(queue.service())`. The `queue.service()` generator function is called, which represents the service time of the customer. After the service is completed, the customer prints a message indicating the finish time.\n",
    "\n",
    "In the main simulation part, we set the random seed using `random.seed(RANDOM_SEED)` for reproducibility. We create the simulation environment `env` using `simpy.Environment()`. We also create an instance of the `SingleServerQueue` class called `queue`, passing the simulation environment and the service time `SERVICE_TIME`.\n",
    "\n",
    "Next, we start the customer arrival process using `env.process(customer_arrivals(env, queue))`. This initiates the arrival of customers to the queuing system.\n",
    "\n",
    "The simulation runs until the specified `SIM_TIME` using `env.run(until=SIM_TIME)`. During the simulation, the arrivals and services of customers are simulated, and their interactions with the single-server queuing system are recorded and printed as messages.\n",
    "\n",
    "The output will show the arrival, service start, and service finish times for each customer, which helps analyze the performance of the queuing system"
   ]
  },
  {
   "cell_type": "code",
   "execution_count": null,
   "metadata": {},
   "outputs": [],
   "source": [
    "import random\n",
    "import simpy\n",
    "\n",
    "RANDOM_SEED = 42\n",
    "SIM_TIME = 1000\n",
    "SERVICE_TIME = 5\n",
    "\n",
    "class SingleServerQueue:\n",
    "    def __init__(self, env, service_time): \n",
    "        self.server = simpy.Resource(env, capacity=1)\n",
    "        self.service_time = service_time\n",
    "    def service(self):\n",
    "        yield env.timeout (random.expovariate(1/self.service_time))\n",
    "\n",
    "def customer_arrivals(env, queue):\n",
    "    i = 0\n",
    "    while True:\n",
    "        i += 1 \n",
    "        yield env.timeout(random.expovariate(1/5)) \n",
    "        env.process(customer (env, f'Customer {i}', queue))\n",
    "\n",
    "def customer(env, name, queue): \n",
    "    print (f\" {env.now}: {name} arrived\")\n",
    "    with queue.server.request() as request:\n",
    "        yield request\n",
    "        print(f\" {env.now}: {name} being served\")\n",
    "        yield env.process(queue.service())\n",
    "        print(f\"{env.now}: {name} finished being served\")\n",
    "\n",
    "# Setup and start the simulation \n",
    "random.seed(RANDOM_SEED)\n",
    "env = simpy.Environment()\n",
    "queue = SingleServerQueue(env, SERVICE_TIME) \n",
    "env.process(customer_arrivals (env, queue))\n",
    "env.run(until=SIM_TIME)"
   ]
  },
  {
   "cell_type": "markdown",
   "metadata": {},
   "source": [
    "## Another two Alternative\n",
    "https://towardsdatascience.com/simulating-a-queuing-system-in-python-8a7d1151d485\n",
    "\n",
    "https://medium.com/analytics-vidhya/simulating-a-single-server-queuing-system-in-python-f8e32578749f"
   ]
  }
 ],
 "metadata": {
  "kernelspec": {
   "display_name": "Python 3",
   "language": "python",
   "name": "python3"
  },
  "language_info": {
   "codemirror_mode": {
    "name": "ipython",
    "version": 3
   },
   "file_extension": ".py",
   "mimetype": "text/x-python",
   "name": "python",
   "nbconvert_exporter": "python",
   "pygments_lexer": "ipython3",
   "version": "3.11.0"
  },
  "orig_nbformat": 4
 },
 "nbformat": 4,
 "nbformat_minor": 2
}
