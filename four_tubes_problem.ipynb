{
 "cells": [
  {
   "cell_type": "code",
   "execution_count": 60,
   "metadata": {},
   "outputs": [],
   "source": [
    "import random\n"
   ]
  },
  {
   "cell_type": "code",
   "execution_count": 61,
   "metadata": {},
   "outputs": [],
   "source": [
    "clock_limit = 6000\n",
    "clock = 0\n",
    "tube_replaced = 0\n",
    "how_many_time = 0\n",
    "\n",
    "T1 = 1000 + (100* random.randint(0,9))\n",
    "T2 = 1000 + (100* random.randint(0,9))\n",
    "T3 = 1000 + (100* random.randint(0,9))\n",
    "T4 = 1000 + (100* random.randint(0,9))\n",
    "\n",
    "while clock_limit >= clock:\n",
    "    how_many_time += 1\n",
    "    fails_first = min( T1 , T2 , T3 , T4)\n",
    "    clock += fails_first\n",
    "    T1 -= fails_first\n",
    "    T2 -= fails_first\n",
    "    T3 -= fails_first\n",
    "    T4 -= fails_first\n",
    "    if T1 == 0:\n",
    "        T1 = 1000 + (100* random.randint(0,9))\n",
    "        tube_replaced += 1\n",
    "    if T2 == 0:\n",
    "        T2 = 1000 + (100* random.randint(0,9))\n",
    "        tube_replaced += 1\n",
    "    if T3 == 0:\n",
    "        T3 = 1000 + (100* random.randint(0,9))\n",
    "        tube_replaced += 1\n",
    "    if T4 == 0:\n",
    "        T4 = 1000 + (100* random.randint(0,9))\n",
    "        tube_replaced += 1\n",
    "\n"
   ]
  },
  {
   "cell_type": "code",
   "execution_count": 62,
   "metadata": {},
   "outputs": [
    {
     "name": "stdout",
     "output_type": "stream",
     "text": [
      "Total maintenance Cost = Rs. 4400\n"
     ]
    }
   ],
   "source": [
    "# Equipment has to be shutdown for 1 hour for replacing a tube\n",
    "# the cost of one tube is Rs. 100,\n",
    "# shut down time costs Rs. 200 per hour\n",
    "\n",
    "\n",
    "print(\"Total maintenance Cost = Rs.\", (tube_replaced*100) + (how_many_time*200))\n"
   ]
  }
 ],
 "metadata": {
  "kernelspec": {
   "display_name": "Python 3",
   "language": "python",
   "name": "python3"
  },
  "language_info": {
   "codemirror_mode": {
    "name": "ipython",
    "version": 3
   },
   "file_extension": ".py",
   "mimetype": "text/x-python",
   "name": "python",
   "nbconvert_exporter": "python",
   "pygments_lexer": "ipython3",
   "version": "3.11.0"
  },
  "orig_nbformat": 4
 },
 "nbformat": 4,
 "nbformat_minor": 2
}
