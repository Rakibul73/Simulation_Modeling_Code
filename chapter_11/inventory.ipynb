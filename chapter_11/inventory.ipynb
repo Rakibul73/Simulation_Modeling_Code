{
 "cells": [
  {
   "cell_type": "code",
   "execution_count": null,
   "metadata": {},
   "outputs": [],
   "source": [
    "import random\n",
    "\n",
    "m = 0\n",
    "while m != 5:\n",
    "    p = int(input(\"\\n Enter reorder point: \"))\n",
    "    q = int(input(\"\\n Enter reorder quantity: \"))\n",
    "    units = 0\n",
    "    eqstock = 0\n",
    "    start = 1\n",
    "    due = 0\n",
    "    demand = 0\n",
    "    cost = 0\n",
    "    stock = 115\n",
    "    \n",
    "    while start <= 180:\n",
    "        if due == start:\n",
    "            stock += q\n",
    "            units = 0\n",
    "        \n",
    "        demand = random.randint(0, 99)\n",
    "        \n",
    "        if demand <= stock:\n",
    "            stock -= demand\n",
    "            cost += stock * 0.75\n",
    "        else:\n",
    "            cost += (demand - stock) * 18\n",
    "            stock = 0\n",
    "        \n",
    "        eqstock = stock + units\n",
    "        if eqstock <= p:\n",
    "            units = q\n",
    "            cost += 75\n",
    "            due = start + 3\n",
    "        \n",
    "        start += 1\n",
    "    \n",
    "    print(\"\\n Reorder point:\", p)\n",
    "    print(\" Reorder Quantity:\", q)\n",
    "    print(\" Total cost is:\", cost)\n",
    "    \n",
    "    m += 1\n"
   ]
  }
 ],
 "metadata": {
  "kernelspec": {
   "display_name": "Python 3",
   "language": "python",
   "name": "python3"
  },
  "language_info": {
   "codemirror_mode": {
    "name": "ipython",
    "version": 3
   },
   "file_extension": ".py",
   "mimetype": "text/x-python",
   "name": "python",
   "nbconvert_exporter": "python",
   "pygments_lexer": "ipython3",
   "version": "3.11.0"
  },
  "orig_nbformat": 4
 },
 "nbformat": 4,
 "nbformat_minor": 2
}
