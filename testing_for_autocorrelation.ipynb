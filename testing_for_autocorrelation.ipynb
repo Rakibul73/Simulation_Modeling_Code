{
 "cells": [
  {
   "cell_type": "code",
   "execution_count": null,
   "metadata": {},
   "outputs": [],
   "source": [
    "import numpy as np\n",
    "\n",
    "# Random numbers provided\n",
    "random_numbers = [49, 95, 82, 19, 41, 31, 12, 53, 62, 40, 87, 83, 26, 1, 91, 55, 38, 75, 90, 35, 71, 57, 27, 85, 52, 8, 35, 57, 88, 38, 77, 86, 29, 18, 9, 96, 58, 22, 8, 93, 85, 45, 79, 68, 20, 11, 78, 93, 21, 13, 6, 32, 63, 79, 54, 67, 35, 18, 81, 40, 62, 13, 76, 74, 76, 45, 29, 36, 80, 78, 95, 25, 52]\n",
    "\n",
    "# Create pairs from the random numbers\n",
    "pairs = []\n",
    "for i in range(0, len(random_numbers) - 1):\n",
    "    pairs.append((random_numbers[i], random_numbers[i+1]))\n",
    "\n",
    "print(pairs)\n",
    "\n",
    "print(len(pairs))\n",
    "\n",
    "class_counts = np.zeros(9)\n",
    "for pair in pairs:\n",
    "    if pair[0] <= 33 and pair[1] <= 33:\n",
    "        class_counts[0] += 1\n",
    "    elif pair[0] <= 67 and pair[1] <= 33:\n",
    "        class_counts[1] += 1\n",
    "    elif pair[0] <= 100 and pair[1] <= 33:\n",
    "        class_counts[2] += 1\n",
    "    elif pair[0] <= 33 and pair[1] <= 67:\n",
    "        class_counts[3] += 1\n",
    "    elif pair[0] <= 67 and pair[1] <= 67:\n",
    "        class_counts[4] += 1\n",
    "    elif pair[0] <= 100 and pair[1] <= 67:\n",
    "        class_counts[5] += 1\n",
    "    elif pair[0] <= 33 and pair[1] <= 100:\n",
    "        class_counts[6] += 1\n",
    "    elif pair[0] <= 67 and pair[1] <= 100:\n",
    "        class_counts[7] += 1\n",
    "    elif pair[0] <= 100 and pair[1] <= 100:\n",
    "        class_counts[8] += 1\n",
    "\n",
    "# Calculate the expectation of pairs in each class\n",
    "expected_counts = np.full(9, len(pairs) / 9)\n",
    "\n",
    "\n",
    "# Calculate the chi-squared statistic\n",
    "chi2_stat = np.sum((class_counts - expected_counts) ** 2 / expected_counts)\n",
    "\n",
    "# Calculate the degrees of freedom\n",
    "df = len(class_counts) - 1\n",
    "\n",
    "# Calculate the critical value for alpha = 0.05\n",
    "from scipy.stats import chi2\n",
    "alpha = 0.05\n",
    "critical_value = chi2.ppf(1 - alpha, df)\n",
    "\n",
    "# Print the test results\n",
    "print(\"Class Counts:\", class_counts)\n",
    "print(\"Expected Counts:\", expected_counts)\n",
    "print(\"Chi-squared statistic:\", chi2_stat)\n",
    "print(\"Critical value for alpha 0.05:\", critical_value)\n"
   ]
  }
 ],
 "metadata": {
  "kernelspec": {
   "display_name": "Python 3",
   "language": "python",
   "name": "python3"
  },
  "language_info": {
   "codemirror_mode": {
    "name": "ipython",
    "version": 3
   },
   "file_extension": ".py",
   "mimetype": "text/x-python",
   "name": "python",
   "nbconvert_exporter": "python",
   "pygments_lexer": "ipython3",
   "version": "3.11.0"
  },
  "orig_nbformat": 4
 },
 "nbformat": 4,
 "nbformat_minor": 2
}
