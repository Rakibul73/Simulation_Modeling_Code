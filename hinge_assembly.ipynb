{
 "cells": [
  {
   "cell_type": "code",
   "execution_count": 127,
   "metadata": {},
   "outputs": [],
   "source": [
    "import random\n",
    "\n",
    "# Define the range of the dimensions\n",
    "a_min = 1.95\n",
    "a_max = 2.05\n",
    "b_min = 1.95\n",
    "b_max = 2.05\n",
    "c_min = 29.5\n",
    "c_max = 30.5\n",
    "d_min = 34.0\n",
    "d_max = 35.0\n",
    "\n",
    "# Define the number of iterations\n",
    "n = 1000\n",
    "\n",
    "# Initialize the counters\n",
    "not_assemble_count = 0\n",
    "assemble_count = 0\n",
    "\n",
    "# Generate the assemblies\n",
    "for i in range(n):\n",
    "    # Generate the dimensions\n",
    "    a = a_min + round(random.random() , 2)\n",
    "    b = b_min + round(random.random() , 2)\n",
    "    c = c_min + round(random.random() , 2)\n",
    "    d = d_min + round(random.random() , 2)\n",
    "\n",
    "\n",
    "\n",
    "    # Check if the parts will assemble\n",
    "    x = d - (a + b + c)\n",
    "    if x >= 0:\n",
    "        assemble_count += 1\n",
    "    else:\n",
    "        not_assemble_count += 1\n",
    "\n",
    "# Calculate the probabilities\n",
    "not_assemble_prob = not_assemble_count / n\n",
    "assemble_prob = assemble_count / n\n"
   ]
  },
  {
   "cell_type": "code",
   "execution_count": 128,
   "metadata": {},
   "outputs": [
    {
     "name": "stdout",
     "output_type": "stream",
     "text": [
      "Number of assemblies: 1000\n",
      "Number of assemblies that do not assemble: 754\n",
      "Number of assemblies that assemble: 246\n",
      "Probability that the selected parts will not assemble: 0.754 or 75.4 %\n",
      "Probability that the selected parts will assemble: 0.246 or 24.6 %\n"
     ]
    }
   ],
   "source": [
    "\n",
    "print(f\"Number of assemblies: {n}\")\n",
    "print(f\"Number of assemblies that do not assemble: {not_assemble_count}\")\n",
    "print(f\"Number of assemblies that assemble: {assemble_count}\")\n",
    "print(f\"Probability that the selected parts will not assemble: {not_assemble_prob} or {not_assemble_prob*100} %\")\n",
    "print(f\"Probability that the selected parts will assemble: {assemble_prob} or {assemble_prob*100} %\")\n"
   ]
  }
 ],
 "metadata": {
  "kernelspec": {
   "display_name": "Python 3",
   "language": "python",
   "name": "python3"
  },
  "language_info": {
   "codemirror_mode": {
    "name": "ipython",
    "version": 3
   },
   "file_extension": ".py",
   "mimetype": "text/x-python",
   "name": "python",
   "nbconvert_exporter": "python",
   "pygments_lexer": "ipython3",
   "version": "3.11.0"
  },
  "orig_nbformat": 4
 },
 "nbformat": 4,
 "nbformat_minor": 2
}
