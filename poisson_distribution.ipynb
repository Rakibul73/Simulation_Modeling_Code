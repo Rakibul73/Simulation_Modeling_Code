{
 "cells": [
  {
   "attachments": {},
   "cell_type": "markdown",
   "metadata": {},
   "source": [
    "                                            Qustion"
   ]
  },
  {
   "attachments": {},
   "cell_type": "markdown",
   "metadata": {},
   "source": [
    "A customer care center receives 5 calls per hour. Compute the probability of attending zero calls, one call, two call, .........  ten calls per hour. Simulate the probability mass function respect to the number of receiving call. Show the probability mass function graphs considering 10 and 15 calls per hour."
   ]
  },
  {
   "attachments": {},
   "cell_type": "markdown",
   "metadata": {},
   "source": [
    "                                                ANS"
   ]
  },
  {
   "attachments": {},
   "cell_type": "markdown",
   "metadata": {},
   "source": [
    "To compute the probability of attending a specific number of calls per hour at a customer care center, we can use the Poisson distribution. The Poisson distribution is commonly used to model the number of events occurring in a fixed interval of time or space, given the average rate of occurrence.\n",
    "\n",
    "Let's calculate the probabilities using the Poisson distribution formula:  <br>\n",
    "\n",
    "### P(x; λ) = (e^(-λ) * λ^x) / x!  <br>\n",
    "\n",
    "### Where:\n",
    "P(x; λ) is the probability of x events occurring,  <br>\n",
    "λ is the average rate of events occurring per unit of time,  <br>\n",
    "e is the base of the natural logarithm (approximately 2.71828),  <br>\n",
    "x is the number of events occurring.  <br>\n",
    "Using this formula, we can calculate the probabilities as follows:  <br>\n",
    "\n",
    "Given λ = 5 calls per hour:\n",
    "\n",
    "P(0; 5) = (e^(-5) * 5^0) / 0! = e^(-5) ≈ 0.0067 <br>\n",
    "P(1; 5) = (e^(-5) * 5^1) / 1! = 5 * e^(-5) ≈ 0.0337 <br>\n",
    "P(2; 5) = (e^(-5) * 5^2) / 2! = 25 * e^(-5) / 2 ≈ 0.0842 <br>\n",
    "P(3; 5) ≈ 0.1403 <br>\n",
    "P(4; 5) ≈ 0.1754 <br>\n",
    "P(5; 5) ≈ 0.1754 <br>\n",
    "P(6; 5) ≈ 0.1462 <br>\n",
    "P(7; 5) ≈ 0.1044 <br>\n",
    "P(8; 5) ≈ 0.0653 <br>\n",
    "P(9; 5) ≈ 0.0363 <br>\n",
    "P(10; 5) ≈ 0.0181 <br>"
   ]
  },
  {
   "cell_type": "code",
   "execution_count": null,
   "metadata": {},
   "outputs": [],
   "source": [
    "import math\n",
    "import matplotlib.pyplot as plt\n",
    "import numpy as np\n",
    "\n",
    "def poisson_pmf(x, lambd):\n",
    "    return (math.exp(-lambd) * (lambd**x)) / math.factorial(x)\n",
    "\n",
    "# Parameters\n",
    "calls_per_hour_5 = 5  # Average rate of 5 calls per hour\n",
    "calls_per_hour_10 = 10  # Average rate of 10 calls per hour\n",
    "calls_per_hour_15 = 15  # Average rate of 15 calls per hour\n",
    "\n",
    "max_calls = 10  # Maximum number of calls\n",
    "\n",
    "# Calculate probabilities\n",
    "x = np.arange(max_calls + 1)\n",
    "pmf_5 = [poisson_pmf(i, calls_per_hour_5) for i in x]\n",
    "pmf_10 = [poisson_pmf(i, calls_per_hour_10) for i in x]\n",
    "pmf_15 = [poisson_pmf(i, calls_per_hour_15) for i in x]\n",
    "\n",
    "\n",
    "# Calculate and print probabilities\n",
    "print(\"Number of Calls (x)   |   Probability (P(x; λ=5))   |   Probability (P(x; λ=10))   |   Probability (P(x; λ=15))\")\n",
    "print(\"---------------------------------------------------------------------------------------------------------------\")\n",
    "for i in range(len(x)):\n",
    "    print(f\"{x[i]:<21} |   {pmf_5[i]:<30.4e}|   {pmf_10[i]:<30.4e}|   {pmf_15[i]:<.4e}\")\n",
    "print(\"---------------------------------------------------------------------------------------------------------------\")\n",
    "\n",
    "# Plotting the PMF graph\n",
    "plt.bar(x, pmf_5, label='λ = 5')\n",
    "plt.bar(x, pmf_10, label='λ = 10', alpha=0.5)\n",
    "plt.bar(x, pmf_15, label='λ = 15', alpha=0.2)\n",
    "plt.xlabel('Number of Calls')\n",
    "plt.ylabel('Probability')\n",
    "plt.title('Probability Mass Function (PMF)')\n",
    "plt.xticks(x)\n",
    "plt.legend()\n",
    "plt.show()\n"
   ]
  }
 ],
 "metadata": {
  "kernelspec": {
   "display_name": "Python 3",
   "language": "python",
   "name": "python3"
  },
  "language_info": {
   "codemirror_mode": {
    "name": "ipython",
    "version": 3
   },
   "file_extension": ".py",
   "mimetype": "text/x-python",
   "name": "python",
   "nbconvert_exporter": "python",
   "pygments_lexer": "ipython3",
   "version": "3.11.0"
  },
  "orig_nbformat": 4
 },
 "nbformat": 4,
 "nbformat_minor": 2
}
