{
 "cells": [
  {
   "cell_type": "code",
   "execution_count": 2,
   "metadata": {},
   "outputs": [
    {
     "name": "stdout",
     "output_type": "stream",
     "text": [
      "Number of hits = 4\n",
      "Number of misses = 36\n",
      "Number of strikes on target = 10.0 %\n"
     ]
    },
    {
     "data": {
      "image/png": "[encoded data removed]",
      "text/plain": [
       "<Figure size 640x480 with 1 Axes>"
      ]
     },
     "metadata": {},
     "output_type": "display_data"
    }
   ],
   "source": [
    "import numpy as np\n",
    "import matplotlib.pyplot as plt\n",
    "from shapely.geometry import Point, Polygon\n",
    "\n",
    "# Define the polygonal target as a set of boundary points\n",
    "target_vertices = [(0, 0), (0, 500), (250, 500), (500, 250), (250, 0) , (0, 0)]\n",
    "\n",
    "# Create a Polygon object from the boundary points\n",
    "target_shape = Polygon(target_vertices)\n",
    "\n",
    "# Set the standard deviations for the strike coordinates\n",
    "standard_deviation_x = 500\n",
    "standard_deviation_y = 300\n",
    "\n",
    "# Set the number of simulations and strikes per simulation\n",
    "number_of_simulation = 1\n",
    "number_of_strike_each_simulation = 40\n",
    "\n",
    "# Loop over the simulations\n",
    "for i in range(number_of_simulation):\n",
    "    hit = 0\n",
    "    miss = 0\n",
    "    point_x = []\n",
    "    point_y = []\n",
    "    \n",
    "    # Loop over the strikes in each simulation\n",
    "    for i in range(number_of_strike_each_simulation):\n",
    "        # Generate random strike coordinates\n",
    "        normal_random_num = np.random.randn()\n",
    "        current_x = standard_deviation_x * normal_random_num\n",
    "        normal_random_num = np.random.randn()\n",
    "        current_y = standard_deviation_y * normal_random_num\n",
    "        point_x.append(current_x)\n",
    "        point_y.append(current_y)\n",
    "        \n",
    "        # Check if the strike coordinates fall within the target shape\n",
    "        strike_point = Point(current_x, current_y)\n",
    "        if target_shape.contains(strike_point):\n",
    "            hit += 1\n",
    "        else:\n",
    "            miss += 1\n",
    "    \n",
    "    # Print simulation results\n",
    "    print(\"Number of hits =\", hit)\n",
    "    print(\"Number of misses =\", miss)\n",
    "    print(\"Number of strikes on target =\", round(((hit/number_of_strike_each_simulation)*100), 2), \"%\")\n",
    "    \n",
    "    # Plot the target shape and the strike points\n",
    "    target_x, target_y = zip(*target_vertices)\n",
    "    plt.plot(target_x, target_y, color=\"blue\")\n",
    "    plt.scatter(point_x, point_y, color=\"red\")\n",
    "    plt.axis('equal')\n",
    "    plt.show()\n"
   ]
  }
 ],
 "metadata": {
  "kernelspec": {
   "display_name": "Python 3",
   "language": "python",
   "name": "python3"
  },
  "language_info": {
   "codemirror_mode": {
    "name": "ipython",
    "version": 3
   },
   "file_extension": ".py",
   "mimetype": "text/x-python",
   "name": "python",
   "nbconvert_exporter": "python",
   "pygments_lexer": "ipython3",
   "version": "3.11.0"
  },
  "orig_nbformat": 4
 },
 "nbformat": 4,
 "nbformat_minor": 2
}
