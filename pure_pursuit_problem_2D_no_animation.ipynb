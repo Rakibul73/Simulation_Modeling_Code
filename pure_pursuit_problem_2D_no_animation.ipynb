{
 "cells": [
  {
   "cell_type": "code",
   "execution_count": 1,
   "metadata": {},
   "outputs": [],
   "source": [
    "import math\n"
   ]
  },
  {
   "cell_type": "code",
   "execution_count": 2,
   "metadata": {},
   "outputs": [],
   "source": [
    "\n",
    "time_limit = 12.0\n",
    "\n",
    "fighter_x = [0] * 16\n",
    "fighter_y = [0] * 16\n",
    "\n",
    "dist = 0\n",
    "s = 20.0  # fighter speed = s km/min\n",
    "fighter_x[0] = 0\n",
    "fighter_y[0] = 50.0\n",
    "bomber_x = [100, 110, 120, 129, 140, 149, 158, 168, 179, 188, 198, 209, 219, 226, 234, 240]\n",
    "bomber_y = [0, 3, 6, 10, 15, 20, 26, 32, 37, 34, 30, 27, 23, 19, 16, 14]\n",
    "firing_range =  10 # (km) firing range of the fighter\n"
   ]
  },
  {
   "attachments": {},
   "cell_type": "markdown",
   "metadata": {},
   "source": [
    "#### checks if the bomber is moving too fast for the fighter to catch up\n",
    "\n",
    "Let's say the fighter has a maximum speed of 20 km/min, and the bomber is initially at a distance of 200 km away.\n",
    "\n",
    "If the bomber is also traveling at a speed of 20 km/min or higher, the fighter will not be able to catch up to it since they will be traveling at the same speed. In this scenario, the fighter will never reach the firing range of the bomber, and the pursuit will fail.\n",
    "\n",
    "In such a case, error checking could be used to determine if the bomber's speed is too high for the fighter to catch up to it, and the program could terminate with an appropriate error message.\n",
    "\n",
    "The same could happen if the fighter's speed is too low, and the bomber is traveling at a higher speed. The fighter would never be able to catch up to the bomber, and the pursuit would fail."
   ]
  },
  {
   "cell_type": "code",
   "execution_count": 3,
   "metadata": {},
   "outputs": [],
   "source": [
    "# checks if the bomber is moving too fast for the fighter to catch up\n",
    "for i in range(len(bomber_x) - 1):\n",
    "    distance_between_bomber_positions = math.sqrt((bomber_x[i+1] - bomber_x[i])**2 + (bomber_y[i+1] - bomber_y[i])**2)\n",
    "    time_between_bomber_positions = distance_between_bomber_positions / s\n",
    "    if time_between_bomber_positions > time_limit:\n",
    "        print(f\"Error: Bomber moves too fast for fighter to catch up. Time between positions {i} and {i+1} is {time_between_bomber_positions:.2f} minutes.\")\n",
    "        exit()\n"
   ]
  },
  {
   "cell_type": "code",
   "execution_count": 4,
   "metadata": {},
   "outputs": [
    {
     "name": "stdout",
     "output_type": "stream",
     "text": [
      "\n",
      "0, 111.80339887498948\n",
      "\n",
      "1, 99.6632269197644\n",
      "\n",
      "2, 88.0071293788102\n",
      "\n",
      "3, 75.6020452207825\n",
      "\n",
      "4, 65.59261941442416\n",
      "\n",
      "5, 54.28310945391319\n",
      "\n",
      "6, 43.66989538852017\n",
      "\n",
      "7, 34.687321728101054\n",
      "\n",
      "8, 26.6857565591888\n",
      "\n",
      "9, 15.325125836284018\n",
      "\n",
      "10, 6.525394338389622\n",
      "\n",
      "Pursuit ends, shot at 10 minutes and at 6.53 km/s.\n"
     ]
    }
   ],
   "source": [
    "\n",
    "for t in range(int(time_limit)):\n",
    "    dist = math.sqrt((bomber_y[t]-fighter_y[t])**2 + (bomber_x[t]-fighter_x[t])**2)\n",
    "    print(f\"\\n{t}, {dist}\")\n",
    "    if t > time_limit:\n",
    "        print(\"Target escapes\")\n",
    "        exit()\n",
    "    if dist <= firing_range:\n",
    "        break\n",
    "    else:\n",
    "        fighter_x[t+1] = fighter_x[t] + s * ((bomber_x[t] - fighter_x[t])/dist)\n",
    "        fighter_y[t+1] = fighter_y[t] + s * ((bomber_y[t] - fighter_y[t])/dist)\n",
    "\n",
    "print(f\"\\nPursuit ends, shot at {t} minutes and at {dist:.2f} km/s.\")\n"
   ]
  }
 ],
 "metadata": {
  "kernelspec": {
   "display_name": "Python 3",
   "language": "python",
   "name": "python3"
  },
  "language_info": {
   "codemirror_mode": {
    "name": "ipython",
    "version": 3
   },
   "file_extension": ".py",
   "mimetype": "text/x-python",
   "name": "python",
   "nbconvert_exporter": "python",
   "pygments_lexer": "ipython3",
   "version": "3.11.0"
  },
  "orig_nbformat": 4
 },
 "nbformat": 4,
 "nbformat_minor": 2
}
