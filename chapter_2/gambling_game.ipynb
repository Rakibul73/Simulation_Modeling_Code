{
 "cells": [
  {
   "cell_type": "code",
   "execution_count": 20,
   "metadata": {},
   "outputs": [
    {
     "name": "stdout",
     "output_type": "stream",
     "text": [
      "Each game on the average requires 9.000414 Flips for simulation\n",
      "Each game on the average requires 9 Flips in truly\n"
     ]
    }
   ],
   "source": [
    "import random\n",
    "\n",
    "def play_game():\n",
    "    lose_money = 0\n",
    "    head_count = 0\n",
    "    tail_count = 0\n",
    "    \n",
    "    while abs(head_count - tail_count) < 3:\n",
    "        lose_money += 1\n",
    "        if random.randint(0, 9) < 5:\n",
    "            head_count += 1\n",
    "        else:\n",
    "            tail_count += 1\n",
    "\n",
    "    return lose_money\n",
    "\n",
    "n_simulations = 1000000\n",
    "total_lose_money = sum(play_game() for _ in range(n_simulations))\n",
    "total_gain_money = n_simulations*8\n",
    "expected_outcome = total_lose_money / n_simulations\n",
    "\n",
    "print(\"Each game on the average requires\", expected_outcome , \"Flips for simulation\")\n",
    "print(\"Each game on the average requires 9 Flips in truly\")\n"
   ]
  }
 ],
 "metadata": {
  "kernelspec": {
   "display_name": "Python 3",
   "language": "python",
   "name": "python3"
  },
  "language_info": {
   "codemirror_mode": {
    "name": "ipython",
    "version": 3
   },
   "file_extension": ".py",
   "mimetype": "text/x-python",
   "name": "python",
   "nbconvert_exporter": "python",
   "pygments_lexer": "ipython3",
   "version": "3.11.0"
  },
  "orig_nbformat": 4
 },
 "nbformat": 4,
 "nbformat_minor": 2
}
