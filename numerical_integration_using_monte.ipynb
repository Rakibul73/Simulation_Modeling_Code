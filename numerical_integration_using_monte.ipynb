{
 "cells": [
  {
   "cell_type": "code",
   "execution_count": null,
   "metadata": {
    "collapsed": true
   },
   "outputs": [],
   "source": [
    "import random\n",
    "import numpy as np\n",
    "import sympy as sy\n",
    "import matplotlib.pyplot as plt"
   ]
  },
  {
   "cell_type": "code",
   "execution_count": null,
   "metadata": {
    "collapsed": false
   },
   "outputs": [],
   "source": [
    "def func(x):\n",
    "    return x**3"
   ]
  },
  {
   "cell_type": "code",
   "execution_count": null,
   "metadata": {
    "collapsed": false
   },
   "outputs": [],
   "source": [
    "x = []\n",
    "y = []\n",
    "a = 2\n",
    "b = 5\n",
    "n=5000000\n",
    "\n",
    "i=0\n",
    "h=0.2\n",
    "while i<8:\n",
    "    val = i\n",
    "    x.append(val)\n",
    "    y.append(func(val))\n",
    "    i += h\n",
    "\n",
    "\n"
   ]
  },
  {
   "cell_type": "code",
   "execution_count": null,
   "metadata": {},
   "outputs": [],
   "source": [
    "\n",
    "# plt.axvline(x=a)\n",
    "# plt.axvline(x=b)\n",
    "# x_vals = np.linspace(2, 5, 100)\n",
    "# plt.plot(x, y, 'b-', linewidth=1)\n",
    "# plt.fill_between(x_vals, x_vals**3, 0, where=(x_vals >= 2) & (x_vals <= 5), color='blue', alpha=0.2)\n",
    "# plt.show()"
   ]
  },
  {
   "cell_type": "code",
   "execution_count": null,
   "metadata": {
    "collapsed": false
   },
   "outputs": [],
   "source": [
    "\n",
    "m=0\n",
    "for i in range(n):\n",
    "\n",
    "    rx = random.randint(20,50)\n",
    "    rx = rx/10\n",
    "    ry = random.randint(0,200)\n",
    "    if ry<=func(rx):\n",
    "        m+=1\n",
    "\n",
    "    # plt.scatter(rx,ry)\n",
    "\n",
    "\n",
    "# plt.axvline(x=a)\n",
    "# plt.axvline(x=b)\n",
    "# x_vals = np.linspace(2, 5, 100)\n",
    "# plt.plot(x, y, 'b-', linewidth=1)\n",
    "# plt.fill_between(x_vals, x_vals**3, 0, where=(x_vals >= 2) & (x_vals <= 5), color='blue', alpha=0.2)\n",
    "# plt.show()\n",
    "\n",
    "\n",
    "\n",
    "\n"
   ]
  },
  {
   "cell_type": "code",
   "execution_count": null,
   "metadata": {},
   "outputs": [],
   "source": [
    "# exact true value\n",
    "x = sy.Symbol(\"x\")\n",
    "e = sy.integrate(func(x), (x, a, b))\n"
   ]
  },
  {
   "cell_type": "code",
   "execution_count": null,
   "metadata": {
    "collapsed": false
   },
   "outputs": [],
   "source": [
    "area = (m/n)*((b-a)*200)\n",
    "print(\"Simulated Area = \" , area)\n",
    "print(\"Exact Area = \" , float(e))"
   ]
  }
 ],
 "metadata": {
  "kernelspec": {
   "display_name": "Python 3",
   "language": "python",
   "name": "python3"
  },
  "language_info": {
   "codemirror_mode": {
    "name": "ipython",
    "version": 3
   },
   "file_extension": ".py",
   "mimetype": "text/x-python",
   "name": "python",
   "nbconvert_exporter": "python",
   "pygments_lexer": "ipython3",
   "version": "3.11.0"
  }
 },
 "nbformat": 4,
 "nbformat_minor": 0
}
