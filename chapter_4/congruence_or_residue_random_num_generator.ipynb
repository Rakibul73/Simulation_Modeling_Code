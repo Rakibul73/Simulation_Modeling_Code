{
 "cells": [
  {
   "cell_type": "code",
   "execution_count": null,
   "metadata": {},
   "outputs": [],
   "source": [
    "def congruence_random_num(a, b, m, seed, num_of_random_numbers):\n",
    "    random_nums = []\n",
    "    current_num = seed\n",
    "\n",
    "    for _ in range(num_of_random_numbers):\n",
    "        current_num = (a * current_num + b) % m\n",
    "        random_nums.append(current_num)\n",
    "\n",
    "    return random_nums\n",
    "\n",
    "\n",
    "a = int(input(\"Enter the value of 'a': \"))  # for additive give a = 1 , rest is same\n",
    "b = int(input(\"Enter the value of 'b': \"))  # for multiplicative give b = 0 , rest is same\n",
    "m = int(input(\"Enter the value of 'm': \"))\n",
    "seed = int(input(\"Enter the seed value: \"))\n",
    "num_of_random_numbers = int(input(\"Enter the number of random numbers to generate: \"))\n",
    "\n",
    "random_numbers = congruence_random_num(a, b, m, seed, num_of_random_numbers)\n",
    "print(\"Generated random numbers:\")\n",
    "for num in random_numbers:\n",
    "    print(num)\n"
   ]
  }
 ],
 "metadata": {
  "kernelspec": {
   "display_name": "Python 3",
   "language": "python",
   "name": "python3"
  },
  "language_info": {
   "codemirror_mode": {
    "name": "ipython",
    "version": 3
   },
   "file_extension": ".py",
   "mimetype": "text/x-python",
   "name": "python",
   "nbconvert_exporter": "python",
   "pygments_lexer": "ipython3",
   "version": "3.11.0"
  },
  "orig_nbformat": 4
 },
 "nbformat": 4,
 "nbformat_minor": 2
}
