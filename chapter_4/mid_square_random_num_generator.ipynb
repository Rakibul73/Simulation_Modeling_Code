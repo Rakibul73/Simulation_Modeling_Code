{
 "cells": [
  {
   "cell_type": "code",
   "execution_count": null,
   "metadata": {},
   "outputs": [],
   "source": [
    "def mid_square(seed , num_random_num):\n",
    "    result = []\n",
    "    remove = int(len(str(seed))/2)\n",
    "    \n",
    "    for i in range(num_random_num):\n",
    "        a = str(seed ** 2)\n",
    "        middle = int((len(a)) / 2)\n",
    "        r = a[middle - remove: middle + remove]\n",
    "        seed = int(r)\n",
    "        result.append(seed)\n",
    "    return result\n",
    "\n",
    "\n",
    "seed = int(input(\"Enter the seed: \"))\n",
    "num_random_num = int(input(\"Enter the number of random number you want: \"))\n",
    "\n",
    "random_numbers = mid_square(seed , num_random_num)\n",
    "print(\"Generated random numbers:\")\n",
    "for num in random_numbers:\n",
    "    print(num)\n"
   ]
  }
 ],
 "metadata": {
  "kernelspec": {
   "display_name": "Python 3",
   "language": "python",
   "name": "python3"
  },
  "language_info": {
   "codemirror_mode": {
    "name": "ipython",
    "version": 3
   },
   "file_extension": ".py",
   "mimetype": "text/x-python",
   "name": "python",
   "nbconvert_exporter": "python",
   "pygments_lexer": "ipython3",
   "version": "3.11.0"
  },
  "orig_nbformat": 4
 },
 "nbformat": 4,
 "nbformat_minor": 2
}
