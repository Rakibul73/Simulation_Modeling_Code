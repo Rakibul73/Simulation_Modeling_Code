{
 "cells": [
  {
   "cell_type": "markdown",
   "metadata": {},
   "source": [
    "                                                Question"
   ]
  },
  {
   "cell_type": "markdown",
   "metadata": {},
   "source": [
    "There were few waves in COVID-19 pandemic. Let a wave occurs every 100 days in Bangladesh, on average. After a wave occurs, find the probability using Exponential distribution that it will take more than 120 days for the next wave to occur. Simulate several Exponential distribution using rate parameters 0.5, 1.0, 2.0, and 4.0\n"
   ]
  },
  {
   "cell_type": "markdown",
   "metadata": {},
   "source": [
    "                                                ANS"
   ]
  },
  {
   "cell_type": "markdown",
   "metadata": {},
   "source": [
    "To find the probability that it will take more than 120 days for the next wave of COVID-19 pandemic to occur in Bangladesh, we can use the Exponential distribution. The Exponential distribution models the time between consecutive events in a Poisson process, where events occur at a constant rate over time.\n",
    "\n",
    "Given that a wave occurs every 100 days, the rate parameter (λ) of the Exponential distribution is 1/100 (since the average time between events is 100 days).\n",
    "\n",
    "To find the probability that it will take more than 120 days for the next wave to occur, we need to calculate the complementary probability of the event \"next wave occurs within 120 days.\" The complementary probability is equal to 1 minus the probability of the event happening within 120 days.\n",
    "\n",
    "The formula for the complementary probability of the Exponential distribution is:\n",
    "\n",
    "P(X > x) = 1 - exp(-λx)\n",
    "\n",
    "where X is the random variable representing the time until the next wave occurs, and x is the time (in this case, 120 days).\n",
    "\n",
    "Now, let's simulate several Exponential distributions using different rate parameters: 0.5, 1.0, 2.0, and 4.0."
   ]
  },
  {
   "cell_type": "code",
   "execution_count": null,
   "metadata": {},
   "outputs": [],
   "source": [
    "import numpy as np\n",
    "\n",
    "def exponential_probability(rate_parameter, time):\n",
    "    lambda_ = 1 / rate_parameter\n",
    "    return 1 - np.exp(-lambda_ * time)\n",
    "\n",
    "# Given rate parameter (average time between waves)\n",
    "average_time_between_waves = 100\n",
    "\n",
    "# Given time (in this case, 120 days)\n",
    "time_for_next_wave = 120\n",
    "\n",
    "# Calculate the probability for the given time using the Exponential distribution\n",
    "probability = exponential_probability(average_time_between_waves, time_for_next_wave)\n",
    "\n",
    "print(f\"The probability that it will take more than 120 days for the next wave to occur is: {probability:.4f}\")\n",
    "\n",
    "# Simulate Exponential distributions with different rate parameters\n",
    "rate_parameters = [0.5, 1.0, 2.0, 4.0]\n",
    "for rate_parameter in rate_parameters:\n",
    "    samples = np.random.exponential(scale=1/rate_parameter, size=1000)\n",
    "    mean_time = np.mean(samples)\n",
    "    print(f\"Simulated mean time between waves (rate parameter = {rate_parameter}): {mean_time:.2f} days\")\n"
   ]
  }
 ],
 "metadata": {
  "kernelspec": {
   "display_name": "Python 3",
   "language": "python",
   "name": "python3"
  },
  "language_info": {
   "codemirror_mode": {
    "name": "ipython",
    "version": 3
   },
   "file_extension": ".py",
   "mimetype": "text/x-python",
   "name": "python",
   "nbconvert_exporter": "python",
   "pygments_lexer": "ipython3",
   "version": "3.11.0"
  },
  "orig_nbformat": 4
 },
 "nbformat": 4,
 "nbformat_minor": 2
}
