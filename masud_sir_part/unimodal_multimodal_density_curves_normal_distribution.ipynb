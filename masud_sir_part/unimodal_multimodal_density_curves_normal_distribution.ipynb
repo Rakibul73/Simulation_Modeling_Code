{
 "cells": [
  {
   "attachments": {},
   "cell_type": "markdown",
   "metadata": {},
   "source": [
    "                                            Question"
   ]
  },
  {
   "attachments": {},
   "cell_type": "markdown",
   "metadata": {},
   "source": [
    "To Show unimodal and multimodal density curves of normal distribution To generate random sample with sample size 200, which follows a normal distribution with mean 100 and standard deviation 20. The distribution of diastolic blood pressure for men is normally distributed with a mean of about 80 and a standard deviation of 20. A histogram of the distribution of blood pressures for all mean displays a normal distribution with bell shape "
   ]
  },
  {
   "cell_type": "code",
   "execution_count": null,
   "metadata": {},
   "outputs": [],
   "source": [
    "import numpy as np\n",
    "import matplotlib.pyplot as plt\n",
    "\n",
    "# Generate a random sample from a normal distribution\n",
    "\n",
    "sample_size = 1000\n",
    "mean = 100\n",
    "standard_deviation = 20\n",
    "\n",
    "random_sample = np.random.normal(mean, standard_deviation, sample_size)\n",
    "\n",
    "# Plot the histogram of the blood pressure distribution\n",
    "\n",
    "plt.hist(random_sample, bins=20, density=True, alpha=0.6, color='blue')\n",
    "plt.xlabel('Blood Pressure')\n",
    "plt.ylabel('Density')\n",
    "plt.title('Histogram of Blood Pressure Distribution')\n",
    "plt.show()\n",
    "\n",
    "# Plot the unimodal density curves\n",
    "\n",
    "x = np.linspace(min(random_sample), max(random_sample), 200)\n",
    "unimodal_curve = (1 / (standard_deviation * np.sqrt(2 * np.pi))) * np.exp(-((x - mean) ** 2) / (2 * standard_deviation ** 2))\n",
    "\n",
    "# Plot the multimodal density curves\n",
    "mean2 = 80\n",
    "standard_deviation2 = 20\n",
    "multimodal_curve = (1 / (standard_deviation * np.sqrt(2 * np.pi))) * np.exp(-((x - mean) ** 2) / (2 * standard_deviation ** 2)) + (1 / (standard_deviation2 * np.sqrt(2 * np.pi))) * np.exp(-((x - mean2) ** 2) / (2 * standard_deviation2 ** 2))\n",
    "\n",
    "plt.plot(x, unimodal_curve, label='Unimodal')\n",
    "plt.plot(x, multimodal_curve, label='Multimodal')\n",
    "plt.xlabel('Blood Pressure')\n",
    "plt.ylabel('Density')\n",
    "plt.title('Density Curves of Normal Distribution')\n",
    "plt.legend()\n",
    "plt.show()\n"
   ]
  }
 ],
 "metadata": {
  "kernelspec": {
   "display_name": "Python 3",
   "language": "python",
   "name": "python3"
  },
  "language_info": {
   "codemirror_mode": {
    "name": "ipython",
    "version": 3
   },
   "file_extension": ".py",
   "mimetype": "text/x-python",
   "name": "python",
   "nbconvert_exporter": "python",
   "pygments_lexer": "ipython3",
   "version": "3.11.0"
  },
  "orig_nbformat": 4
 },
 "nbformat": 4,
 "nbformat_minor": 2
}
