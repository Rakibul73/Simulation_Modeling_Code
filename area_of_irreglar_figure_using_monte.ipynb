{
 "cells": [
  {
   "cell_type": "code",
   "execution_count": null,
   "metadata": {},
   "outputs": [],
   "source": [
    "from PIL import Image\n",
    "import random\n",
    "import numpy as np\n",
    "import matplotlib.pyplot as plt\n",
    "\n",
    "# load the image and convert it to grayscale\n",
    "image = Image.open(\"zzzz.png\").convert(\"L\")\n",
    "\n",
    "# threshold the image to create a binary mask\n",
    "threshold = 128\n",
    "mask = np.array(image.point(lambda x: 255 if x > threshold else 0), dtype=bool)\n",
    "\n",
    "# define the bounding rectangle as the dimensions of the image\n",
    "width, height = image.size\n",
    "rectangle_area = width * height\n",
    "\n",
    "def is_inside(x, y):\n",
    "    # check if the point is inside the mask\n",
    "    i, j = int(x * width), int(y * height)\n",
    "    if i < 0 or i >= width or j < 0 or j >= height:\n",
    "        return False\n",
    "    else:\n",
    "        return mask[j, i]\n",
    "\n",
    "n_points = 1000000\n",
    "fig, ax = plt.subplots()\n",
    "ax.imshow(image)\n",
    "n_inside = sum(is_inside(random.random(), random.random()) for _ in range(n_points))\n",
    "\n",
    "figure_area = rectangle_area * n_inside / n_points\n",
    "\n",
    "print(\"Estimated area:\", figure_area)\n"
   ]
  },
  {
   "cell_type": "code",
   "execution_count": null,
   "metadata": {},
   "outputs": [],
   "source": [
    "import matplotlib.pyplot as plt\n",
    "import numpy as np\n",
    "\n",
    "# Load the image\n",
    "image = plt.imread('zzzz.png')\n",
    "\n",
    "# Get the dimensions of the image\n",
    "height, width, channels = image.shape\n",
    "\n",
    "# Generate random points within the bounds of the image\n",
    "num_points = 10000\n",
    "x = np.random.randint(0, width, num_points)\n",
    "y = np.random.randint(0, height, num_points)\n",
    "\n",
    "# Plot the image and the random points\n",
    "fig, ax = plt.subplots()\n",
    "ax.imshow(image)\n",
    "ax.scatter(x, y, s=2)\n",
    "plt.show()\n"
   ]
  }
 ],
 "metadata": {
  "kernelspec": {
   "display_name": "Python 3",
   "language": "python",
   "name": "python3"
  },
  "language_info": {
   "codemirror_mode": {
    "name": "ipython",
    "version": 3
   },
   "file_extension": ".py",
   "mimetype": "text/x-python",
   "name": "python",
   "nbconvert_exporter": "python",
   "pygments_lexer": "ipython3",
   "version": "3.11.0"
  },
  "orig_nbformat": 4
 },
 "nbformat": 4,
 "nbformat_minor": 2
}
